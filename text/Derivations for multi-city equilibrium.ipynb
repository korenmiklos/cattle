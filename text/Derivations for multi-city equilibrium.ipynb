{
 "cells": [
  {
   "cell_type": "code",
   "execution_count": 155,
   "metadata": {},
   "outputs": [],
   "source": [
    "from sympy import *\n",
    "init_printing(use_latex='mathjax')\n"
   ]
  },
  {
   "cell_type": "code",
   "execution_count": 156,
   "metadata": {},
   "outputs": [],
   "source": [
    "x, W, Pa1, Pa2, Pa3, z1, z2, tau1, tau2, beta = symbols('x, W, Pa1, Pa2, Pa3, z1, z2, tau1, tau2, beta', positive=True)"
   ]
  },
  {
   "cell_type": "code",
   "execution_count": 171,
   "metadata": {},
   "outputs": [
    {
     "data": {
      "text/latex": [
       "$$Pa_{1} = Pa_{2} e^{z_{1} \\left(\\tau_{1} - \\tau_{2}\\right)}$$"
      ],
      "text/plain": [
       "           z₁⋅(τ₁ - τ₂)\n",
       "Pa₁ = Pa₂⋅ℯ            "
      ]
     },
     "execution_count": 171,
     "metadata": {},
     "output_type": "execute_result"
    }
   ],
   "source": [
    "rent_arbitrage_1 = Eq(Pa1, Pa2*exp(z1*(tau1-tau2)))\n",
    "rent_arbitrage_1"
   ]
  },
  {
   "cell_type": "code",
   "execution_count": 172,
   "metadata": {},
   "outputs": [
    {
     "data": {
      "text/latex": [
       "$$\\frac{Pa_{2} \\beta^{\\beta} \\left(- \\beta + 1\\right)^{- \\beta + 1} e^{- \\tau_{2} z_{2}}}{W} = \\left(\\frac{Pa_{3}}{W}\\right)^{\\beta}$$"
      ],
      "text/plain": [
       "     β         -β + 1  -τ₂⋅z₂        β\n",
       "Pa₂⋅β ⋅(-β + 1)      ⋅ℯ         ⎛Pa₃⎞ \n",
       "───────────────────────────── = ⎜───⎟ \n",
       "              W                 ⎝ W ⎠ "
      ]
     },
     "execution_count": 172,
     "metadata": {},
     "output_type": "execute_result"
    }
   ],
   "source": [
    "rent_arbitrage_2 = Eq(beta**beta * (1-beta)**(1-beta) * Pa2/W * exp(-z2*tau2), (Pa3/W)**beta)\n",
    "rent_arbitrage_2"
   ]
  },
  {
   "cell_type": "raw",
   "metadata": {},
   "source": []
  },
  {
   "cell_type": "code",
   "execution_count": 173,
   "metadata": {},
   "outputs": [
    {
     "data": {
      "text/latex": [
       "$$\\left(Pa_{3}^{\\beta} e^{\\tau_{2} z_{2}}\\right)^{\\frac{1}{\\beta - 1}} \\left(Pa_{2} \\beta^{\\beta} \\left(- \\beta + 1\\right)^{- \\beta + 1}\\right)^{- \\frac{1}{\\beta - 1}}$$"
      ],
      "text/plain": [
       "               1                           -1  \n",
       "             ─────                        ─────\n",
       "             β - 1                        β - 1\n",
       "⎛   β  τ₂⋅z₂⎞      ⎛     β         -β + 1⎞     \n",
       "⎝Pa₃ ⋅ℯ     ⎠     ⋅⎝Pa₂⋅β ⋅(-β + 1)      ⎠     "
      ]
     },
     "execution_count": 173,
     "metadata": {},
     "output_type": "execute_result"
    }
   ],
   "source": [
    "W_star = solve(rent_arbitrage_2, W)[0]\n",
    "W_star"
   ]
  },
  {
   "cell_type": "code",
   "execution_count": 160,
   "metadata": {},
   "outputs": [],
   "source": [
    "N, L1, L2, ztilde1, ztilde2 = symbols('N, L1, L2, ztilde1, ztilde2', positive=True)"
   ]
  },
  {
   "cell_type": "code",
   "execution_count": 174,
   "metadata": {},
   "outputs": [
    {
     "data": {
      "text/latex": [
       "$$\\frac{L_{1} \\left(\\frac{Pa_{1}}{Pa_{2}}\\right)^{\\frac{1}{\\beta}} e^{- \\frac{\\tau_{1} \\tilde{z}_{1}}{\\beta} + \\frac{\\tau_{2} \\tilde{z}_{2}}{\\beta}}}{L_{2}}$$"
      ],
      "text/plain": [
       "                  τ₁⋅z̃₁   τ₂⋅z̃₂\n",
       "         _____  - ────── + ──────\n",
       "        ╱ Pa₁       β        β   \n",
       "L₁⋅beta╱  ─── ⋅ℯ                 \n",
       "     ╲╱   Pa₂                    \n",
       "─────────────────────────────────\n",
       "                L₂               "
      ]
     },
     "execution_count": 174,
     "metadata": {},
     "output_type": "execute_result"
    }
   ],
   "source": [
    "rent_ratio = (Pa1 / Pa2)**(1/beta) * L1/L2 * exp(-ztilde1*tau1/beta+ztilde2*tau2/beta)\n",
    "rent_ratio"
   ]
  },
  {
   "cell_type": "code",
   "execution_count": 175,
   "metadata": {},
   "outputs": [
    {
     "data": {
      "text/latex": [
       "$$Pa_{2} e^{z_{1} \\left(\\tau_{1} - \\tau_{2}\\right)}$$"
      ],
      "text/plain": [
       "     z₁⋅(τ₁ - τ₂)\n",
       "Pa₂⋅ℯ            "
      ]
     },
     "execution_count": 175,
     "metadata": {},
     "output_type": "execute_result"
    }
   ],
   "source": [
    "P1_star = solve(rent_arbitrage_1, Pa1)[0]\n",
    "P1_star"
   ]
  },
  {
   "cell_type": "code",
   "execution_count": 176,
   "metadata": {},
   "outputs": [
    {
     "data": {
      "text/latex": [
       "$$\\frac{L_{1} e^{\\frac{z_{1} \\left(\\tau_{1} - \\tau_{2}\\right)}{\\beta}} e^{- \\frac{\\tau_{1} \\tilde{z}_{1}}{\\beta} + \\frac{\\tau_{2} \\tilde{z}_{2}}{\\beta}}}{L_{2}}$$"
      ],
      "text/plain": [
       "    z₁⋅(τ₁ - τ₂)    τ₁⋅z̃₁   τ₂⋅z̃₂\n",
       "    ────────────  - ────── + ──────\n",
       "         β            β        β   \n",
       "L₁⋅ℯ            ⋅ℯ                 \n",
       "───────────────────────────────────\n",
       "                 L₂                "
      ]
     },
     "execution_count": 176,
     "metadata": {},
     "output_type": "execute_result"
    }
   ],
   "source": [
    "rent_ratio.subs(Pa1, P1_star)"
   ]
  },
  {
   "cell_type": "markdown",
   "metadata": {},
   "source": [
    "Rent ratio does not depend on productivity or external prices, only on z1, z2."
   ]
  },
  {
   "cell_type": "code",
   "execution_count": 177,
   "metadata": {},
   "outputs": [
    {
     "data": {
      "text/latex": [
       "$$W = N^{- \\beta} \\left(- \\beta + 1\\right) \\left(L_{1} Pa_{1}^{\\frac{1}{\\beta}} e^{- \\frac{\\tau_{1} \\tilde{z}_{1}}{\\beta}} + L_{2} Pa_{2}^{\\frac{1}{\\beta}} e^{- \\frac{\\tau_{2} \\tilde{z}_{2}}{\\beta}}\\right)^{\\beta}$$"
      ],
      "text/plain": [
       "                                                                  β\n",
       "                 ⎛              -τ₁⋅z̃₁                  -τ₂⋅z̃₂ ⎞ \n",
       "                 ⎜              ────────                 ────────⎟ \n",
       "     -β          ⎜   beta_____     β          beta_____     β    ⎟ \n",
       "W = N  ⋅(-β + 1)⋅⎝L₁⋅  ╲╱ Pa₁ ⋅ℯ         + L₂⋅  ╲╱ Pa₂ ⋅ℯ        ⎠ "
      ]
     },
     "execution_count": 177,
     "metadata": {},
     "output_type": "execute_result"
    }
   ],
   "source": [
    "labor_market_clearing = Eq(W, N**(-beta) * (1-beta) * (L1*(Pa1)**(1/beta)*exp(-ztilde1*tau1/beta)  + L2*(Pa2)**(1/beta)*exp(-ztilde2*tau2/beta))**beta)\n",
    "labor_market_clearing"
   ]
  },
  {
   "cell_type": "code",
   "execution_count": 178,
   "metadata": {},
   "outputs": [
    {
     "data": {
      "text/latex": [
       "$$\\left(Pa_{3}^{\\beta} e^{\\tau_{2} z_{2}}\\right)^{\\frac{1}{\\beta - 1}} \\left(Pa_{2} \\beta^{\\beta} \\left(- \\beta + 1\\right)^{- \\beta + 1}\\right)^{- \\frac{1}{\\beta - 1}} = N^{- \\beta} \\left(- \\beta + 1\\right) \\left(L_{1} \\left(Pa_{2} e^{z_{1} \\left(\\tau_{1} - \\tau_{2}\\right)}\\right)^{\\frac{1}{\\beta}} e^{- \\frac{\\tau_{1} \\tilde{z}_{1}}{\\beta}} + L_{2} Pa_{2}^{\\frac{1}{\\beta}} e^{- \\frac{\\tau_{2} \\tilde{z}_{2}}{\\beta}}\\right)^{\\beta}$$"
      ],
      "text/plain": [
       "               1                           -1                                 \n",
       "             ─────                        ─────                ⎛              \n",
       "             β - 1                        β - 1                ⎜        ______\n",
       "⎛   β  τ₂⋅z₂⎞      ⎛     β         -β + 1⎞         -β          ⎜   beta╱      \n",
       "⎝Pa₃ ⋅ℯ     ⎠     ⋅⎝Pa₂⋅β ⋅(-β + 1)      ⎠      = N  ⋅(-β + 1)⋅⎝L₁⋅  ╲╱  Pa₂⋅ℯ\n",
       "\n",
       "                                                 β\n",
       "               -τ₁⋅z̃₁                  -τ₂⋅z̃₂ ⎞ \n",
       "_____________  ────────                 ────────⎟ \n",
       "z₁⋅(τ₁ - τ₂)      β          beta_____     β    ⎟ \n",
       "             ⋅ℯ         + L₂⋅  ╲╱ Pa₂ ⋅ℯ        ⎠ "
      ]
     },
     "execution_count": 178,
     "metadata": {},
     "output_type": "execute_result"
    }
   ],
   "source": [
    "z2_eq = labor_market_clearing.subs(Pa1, P1_star).subs(W, W_star)\n",
    "z2_eq"
   ]
  },
  {
   "cell_type": "code",
   "execution_count": 186,
   "metadata": {},
   "outputs": [
    {
     "data": {
      "text/latex": [
       "$$\\left(- \\frac{N^{\\beta} Pa_{3}^{\\frac{\\beta}{\\beta - 1}} \\beta^{- \\frac{\\beta}{\\beta - 1}} \\left(\\left(- \\beta + 1\\right) e^{- \\beta \\log{\\left (- \\beta + 1 \\right )}}\\right)^{- \\frac{1}{\\beta - 1}} \\left(L_{1} e^{\\frac{\\tau_{1} z_{1} + \\tau_{2} \\tilde{z}_{2}}{\\beta}} + L_{2} e^{\\frac{\\tau_{1} \\tilde{z}_{1} + \\tau_{2} z_{1}}{\\beta}}\\right)^{- \\beta} e^{\\frac{\\tau_{2} z_{2} + \\left(\\beta - 1\\right) \\left(\\tau_{1} \\tilde{z}_{1} + \\tau_{2} z_{1} + \\tau_{2} \\tilde{z}_{2}\\right)}{\\beta - 1}}}{\\beta - 1}\\right)^{\\frac{\\beta - 1}{\\beta}}$$"
      ],
      "text/plain": [
       "                                                                              \n",
       "                                                                              \n",
       "                                                                              \n",
       "⎛                                               -1                            \n",
       "⎜         β     -β                             ───── ⎛    τ₁⋅z₁ + τ₂⋅z̃₂      \n",
       "⎜       ─────  ─────                           β - 1 ⎜    ──────────────      \n",
       "⎜  β    β - 1  β - 1 ⎛          -β⋅log(-β + 1)⎞      ⎜          β             \n",
       "⎜-N ⋅Pa₃     ⋅β     ⋅⎝(-β + 1)⋅ℯ              ⎠     ⋅⎝L₁⋅ℯ               + L₂⋅\n",
       "⎜─────────────────────────────────────────────────────────────────────────────\n",
       "⎝                                                                   β - 1     \n",
       "\n",
       "                                                               β - 1\n",
       "                                                               ─────\n",
       "                                                                 β  \n",
       "                -β                                            ⎞     \n",
       " τ₁⋅z̃₁ + τ₂⋅z₁⎞    τ₂⋅z₂ + (β - 1)⋅(τ₁⋅z̃₁ + τ₂⋅z₁ + τ₂⋅z̃₂) ⎟     \n",
       " ──────────────⎟    ───────────────────────────────────────── ⎟     \n",
       "       β       ⎟                      β - 1                   ⎟     \n",
       "ℯ              ⎠  ⋅ℯ                                          ⎟     \n",
       "──────────────────────────────────────────────────────────────⎟     \n",
       "                                                              ⎠     "
      ]
     },
     "execution_count": 186,
     "metadata": {},
     "output_type": "execute_result"
    }
   ],
   "source": [
    "simplify(solve(z2_eq, Pa2)[0])"
   ]
  },
  {
   "cell_type": "code",
   "execution_count": 189,
   "metadata": {},
   "outputs": [
    {
     "data": {
      "text/latex": [
       "$$\\frac{N^{- \\beta + 1} Pa_{2} \\beta}{Pa_{3}} = \\left(L_{1} e^{\\frac{\\tau_{1} z_{1} + \\tau_{2} \\tilde{z}_{2}}{\\beta}} + L_{2} e^{\\frac{\\tau_{1} \\tilde{z}_{1} + \\tau_{2} z_{1}}{\\beta}}\\right)^{- \\beta + 1} e^{\\frac{\\tau_{2} z_{2} + \\left(\\beta - 1\\right) \\left(\\tau_{1} \\tilde{z}_{1} + \\tau_{2} z_{1} + \\tau_{2} \\tilde{z}_{2}\\right)}{\\beta}}$$"
      ],
      "text/plain": [
       "                                                         -β + 1               \n",
       "                ⎛    τ₁⋅z₁ + τ₂⋅z̃₂       τ₁⋅z̃₁ + τ₂⋅z₁⎞        τ₂⋅z₂ + (β - \n",
       " -β + 1         ⎜    ──────────────       ──────────────⎟        ─────────────\n",
       "N      ⋅Pa₂⋅β   ⎜          β                    β       ⎟                     \n",
       "───────────── = ⎝L₁⋅ℯ               + L₂⋅ℯ              ⎠      ⋅ℯ             \n",
       "     Pa₃                                                                      \n",
       "\n",
       "                            \n",
       "1)⋅(τ₁⋅z̃₁ + τ₂⋅z₁ + τ₂⋅z̃₂)\n",
       "────────────────────────────\n",
       "       β                    \n",
       "                            \n",
       "                            "
      ]
     },
     "execution_count": 189,
     "metadata": {},
     "output_type": "execute_result"
    }
   ],
   "source": [
    "z2_sol = simplify(Eq(beta * N**(1-beta) * Pa2 / Pa3, (1-beta)**(1/beta-1) * (1-beta)**(1-1/beta) * (L1*exp((tau1*z1+tau2*ztilde2)/beta) + L2*exp((tau1*ztilde1+tau2*z1)/beta))**(1-beta) * exp((tau2*z2-(1-beta)*(tau1*ztilde1+tau2*ztilde2+tau2*z1))/beta)))\n",
    "z2_sol"
   ]
  },
  {
   "cell_type": "markdown",
   "metadata": {},
   "source": [
    "The LHS is increasing in P2A2/(P3A3) and N. The RHS is increasing in z2 (this needs proof). This pins down z2 as a function of z1 (increasing?) and the LHS."
   ]
  },
  {
   "cell_type": "code",
   "execution_count": 203,
   "metadata": {},
   "outputs": [
    {
     "data": {
      "text/latex": [
       "$$Pa_{3} \\left(\\frac{N^{\\beta - 1} \\beta^{\\beta} \\left(- \\beta + 1\\right)^{- \\beta + 1} \\left(L_{1} e^{\\frac{\\tau_{1} z_{1} + \\tau_{2} \\tilde{z}_{2}}{\\beta}} + L_{2} e^{\\frac{\\tau_{1} \\tilde{z}_{1} + \\tau_{2} z_{1}}{\\beta}}\\right)^{- \\beta + 1} e^{\\frac{\\beta \\left(\\tau_{1} \\tilde{z}_{1} + \\tau_{2} z_{1} + \\tau_{2} \\tilde{z}_{2}\\right) - \\tau_{1} \\tilde{z}_{1} - \\tau_{2} z_{1} + \\tau_{2} z_{2} - \\tau_{2} \\tilde{z}_{2}}{\\beta}}}{\\beta}\\right)^{- \\frac{1}{\\beta - 1}} e^{\\frac{\\tau_{2} z_{2}}{\\beta - 1}}$$"
      ],
      "text/plain": [
       "                                                                              \n",
       "                                                                              \n",
       "                                                                              \n",
       "    ⎛                                                                  -β + 1 \n",
       "    ⎜                         ⎛    τ₁⋅z₁ + τ₂⋅z̃₂       τ₁⋅z̃₁ + τ₂⋅z₁⎞       \n",
       "    ⎜                         ⎜    ──────────────       ──────────────⎟       \n",
       "    ⎜ β - 1  β         -β + 1 ⎜          β                    β       ⎟       \n",
       "    ⎜N     ⋅β ⋅(-β + 1)      ⋅⎝L₁⋅ℯ               + L₂⋅ℯ              ⎠      ⋅\n",
       "Pa₃⋅⎜─────────────────────────────────────────────────────────────────────────\n",
       "    ⎝                                                                   β     \n",
       "\n",
       "                                                                -1         \n",
       "                                                               ─────       \n",
       "                                                               β - 1       \n",
       "                                                              ⎞            \n",
       " β⋅(τ₁⋅z̃₁ + τ₂⋅z₁ + τ₂⋅z̃₂) - τ₁⋅z̃₁ - τ₂⋅z₁ + τ₂⋅z₂ - τ₂⋅z̃₂⎟            \n",
       " ─────────────────────────────────────────────────────────────⎟       τ₂⋅z₂\n",
       "                               β                              ⎟       ─────\n",
       "ℯ                                                             ⎟       β - 1\n",
       "──────────────────────────────────────────────────────────────⎟     ⋅ℯ     \n",
       "                                                              ⎠            "
      ]
     },
     "execution_count": 203,
     "metadata": {},
     "output_type": "execute_result"
    }
   ],
   "source": [
    "W_star.subs(Pa2, solve(z2_sol, Pa2)[0]).subs(Pa3, 1) * Pa3"
   ]
  },
  {
   "cell_type": "markdown",
   "metadata": {},
   "source": [
    "Wages are hom(1) in P3A3 and hom(-1) in N, conditional on z1 and z2."
   ]
  },
  {
   "cell_type": "code",
   "execution_count": 167,
   "metadata": {},
   "outputs": [],
   "source": [
    "z = Symbol('z')\n",
    "L1_ = integrate(2*pi*z, (z, 0, z1))\n",
    "L2_ = integrate(2*pi*z, (z, z1, z2))\n",
    "ztilde1_ = integrate(exp(-z*tau1/beta), (z, 0, z1))**(-beta/tau1)\n",
    "ztilde2_ = integrate(exp(-z*tau2/beta), (z, z1, z2))**(-beta/tau2)"
   ]
  },
  {
   "cell_type": "code",
   "execution_count": 168,
   "metadata": {},
   "outputs": [
    {
     "data": {
      "text/latex": [
       "$$\\left(\\frac{\\beta}{\\tau_{1}} - \\frac{\\beta e^{- \\frac{\\tau_{1} z_{1}}{\\beta}}}{\\tau_{1}}\\right)^{- \\frac{\\beta}{\\tau_{1}}}$$"
      ],
      "text/plain": [
       "                 -β \n",
       "                 ───\n",
       "                  τ₁\n",
       "⎛        -τ₁⋅z₁ ⎞   \n",
       "⎜        ───────⎟   \n",
       "⎜           β   ⎟   \n",
       "⎜β    β⋅ℯ       ⎟   \n",
       "⎜── - ──────────⎟   \n",
       "⎝τ₁       τ₁    ⎠   "
      ]
     },
     "execution_count": 168,
     "metadata": {},
     "output_type": "execute_result"
    }
   ],
   "source": [
    "ztilde1_"
   ]
  },
  {
   "cell_type": "code",
   "execution_count": 169,
   "metadata": {},
   "outputs": [
    {
     "data": {
      "text/latex": [
       "$$\\left(\\left(A_{3} P_{3}\\right)^{\\beta} e^{\\tau_{2} z_{2}}\\right)^{\\frac{1}{\\beta - 1}} \\left(A_{2} P_{2} \\beta^{\\beta} \\left(- \\beta + 1\\right)^{- \\beta + 1}\\right)^{- \\frac{1}{\\beta - 1}} = N^{- \\beta} \\left(- \\beta + 1\\right) \\left(\\pi z_{1}^{2} \\left(A_{2} P_{2} e^{z_{1} \\left(\\tau_{1} - \\tau_{2}\\right)}\\right)^{\\frac{1}{\\beta}} e^{- \\frac{\\tau_{1} \\left(\\frac{\\beta}{\\tau_{1}} - \\frac{\\beta e^{- \\frac{\\tau_{1} z_{1}}{\\beta}}}{\\tau_{1}}\\right)^{- \\frac{\\beta}{\\tau_{1}}}}{\\beta}} + \\left(A_{2} P_{2}\\right)^{\\frac{1}{\\beta}} \\left(- \\pi z_{1}^{2} + \\pi z_{2}^{2}\\right) e^{- \\frac{\\tau_{2} \\left(- \\frac{\\beta e^{- \\frac{\\tau_{2} z_{2}}{\\beta}}}{\\tau_{2}} + \\frac{\\beta e^{- \\frac{\\tau_{2} z_{1}}{\\beta}}}{\\tau_{2}}\\right)^{- \\frac{\\beta}{\\tau_{2}}}}{\\beta}}\\right)^{\\beta}$$"
      ],
      "text/plain": [
       "                                                                              \n",
       "                                                                     ⎛        \n",
       "                                                                     ⎜        \n",
       "                                                                     ⎜        \n",
       "                                                                     ⎜        \n",
       "                                                                     ⎜        \n",
       "                                                                     ⎜        \n",
       "                                                                     ⎜        \n",
       "                   1                             -1                  ⎜        \n",
       "                 ─────                          ─────                ⎜        \n",
       "                 β - 1                          β - 1                ⎜        \n",
       "⎛       β  τ₂⋅z₂⎞      ⎛       β         -β + 1⎞         -β          ⎜    2 be\n",
       "⎝(A₃⋅P₃) ⋅ℯ     ⎠     ⋅⎝A₂⋅P₂⋅β ⋅(-β + 1)      ⎠      = N  ⋅(-β + 1)⋅⎝π⋅z₁ ⋅  \n",
       "\n",
       "                                                                              \n",
       "                                               -β                             \n",
       "                                               ───                            \n",
       "                                                τ₁                            \n",
       "                              ⎛        -τ₁⋅z₁ ⎞                               \n",
       "                              ⎜        ───────⎟                               \n",
       "                              ⎜           β   ⎟                               \n",
       "                              ⎜β    β⋅ℯ       ⎟                               \n",
       "                          -τ₁⋅⎜── - ──────────⎟                               \n",
       "                              ⎝τ₁       τ₁    ⎠                               \n",
       "   _____________________  ─────────────────────────                           \n",
       "ta╱        z₁⋅(τ₁ - τ₂)               β               beta_______ ⎛      2    \n",
       "╲╱  A₂⋅P₂⋅ℯ             ⋅ℯ                          +   ╲╱ A₂⋅P₂ ⋅⎝- π⋅z₁  + π\n",
       "\n",
       "                                           β\n",
       "                                      -β  ⎞ \n",
       "                                      ─── ⎟ \n",
       "                                       τ₂ ⎟ \n",
       "           ⎛     -τ₂⋅z₂       -τ₂⋅z₁ ⎞    ⎟ \n",
       "           ⎜     ───────      ───────⎟    ⎟ \n",
       "           ⎜        β            β   ⎟    ⎟ \n",
       "           ⎜  β⋅ℯ          β⋅ℯ       ⎟    ⎟ \n",
       "       -τ₂⋅⎜- ────────── + ──────────⎟    ⎟ \n",
       "           ⎝      τ₂           τ₂    ⎠    ⎟ \n",
       "       ───────────────────────────────────⎟ \n",
       "   2⎞                   β                 ⎟ \n",
       "⋅z₂ ⎠⋅ℯ                                   ⎠ "
      ]
     },
     "execution_count": 169,
     "metadata": {},
     "output_type": "execute_result"
    }
   ],
   "source": [
    "z2_eq.subs([(L1,L1_), (L2,L2_), (ztilde1,ztilde1_), (ztilde2,ztilde2_)])"
   ]
  },
  {
   "cell_type": "markdown",
   "metadata": {},
   "source": []
  },
  {
   "cell_type": "code",
   "execution_count": 170,
   "metadata": {},
   "outputs": [
    {
     "data": {
      "text/latex": [
       "$$\\left(\\left(A_{3} P_{3}\\right)^{\\beta} e^{\\tau_{2} z_{2}}\\right)^{\\frac{1}{\\beta - 1}} \\left(A_{2} P_{2} \\beta^{\\beta} \\left(- \\beta + 1\\right)^{- \\beta + 1}\\right)^{- \\frac{1}{\\beta - 1}} = N^{- \\beta} \\left(- \\beta + 1\\right) \\left(L_{1} \\left(A_{2} P_{2} e^{z_{1} \\left(\\tau_{1} - \\tau_{2}\\right)}\\right)^{\\frac{1}{\\beta}} e^{- \\frac{\\tau_{1} \\tilde{z}_{1}}{\\beta}} + L_{2} \\left(A_{2} P_{2}\\right)^{\\frac{1}{\\beta}} e^{- \\frac{\\tau_{2} \\tilde{z}_{2}}{\\beta}}\\right)^{\\beta}$$"
      ],
      "text/plain": [
       "                   1                             -1                           \n",
       "                 ─────                          ─────                ⎛        \n",
       "                 β - 1                          β - 1                ⎜        \n",
       "⎛       β  τ₂⋅z₂⎞      ⎛       β         -β + 1⎞         -β          ⎜   beta╱\n",
       "⎝(A₃⋅P₃) ⋅ℯ     ⎠     ⋅⎝A₂⋅P₂⋅β ⋅(-β + 1)      ⎠      = N  ⋅(-β + 1)⋅⎝L₁⋅  ╲╱ \n",
       "\n",
       "                                                           β\n",
       "                       -τ₁⋅z̃₁                    -τ₂⋅z̃₂ ⎞ \n",
       "_____________________  ────────                   ────────⎟ \n",
       "        z₁⋅(τ₁ - τ₂)      β          beta_______     β    ⎟ \n",
       " A₂⋅P₂⋅ℯ             ⋅ℯ         + L₂⋅  ╲╱ A₂⋅P₂ ⋅ℯ        ⎠ "
      ]
     },
     "execution_count": 170,
     "metadata": {},
     "output_type": "execute_result"
    }
   ],
   "source": [
    "z2_eq"
   ]
  },
  {
   "cell_type": "code",
   "execution_count": null,
   "metadata": {},
   "outputs": [],
   "source": []
  }
 ],
 "metadata": {
  "kernelspec": {
   "display_name": "Python 3",
   "language": "python",
   "name": "python3"
  },
  "language_info": {
   "codemirror_mode": {
    "name": "ipython",
    "version": 3
   },
   "file_extension": ".py",
   "mimetype": "text/x-python",
   "name": "python",
   "nbconvert_exporter": "python",
   "pygments_lexer": "ipython3",
   "version": "3.7.0"
  }
 },
 "nbformat": 4,
 "nbformat_minor": 2
}
